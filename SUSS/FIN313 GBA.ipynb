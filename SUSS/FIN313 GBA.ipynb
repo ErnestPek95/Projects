{
 "cells": [
  {
   "cell_type": "markdown",
   "id": "b7ceb2b6-2060-4337-9e8f-96e4fc708627",
   "metadata": {},
   "source": [
    "# FIN313 GBA JAN24\n",
    "Group Number: 7\n",
    "\n",
    "Group Members:\n",
    "\n",
    "    Ernest Pek Jun Wei (B1981095) \n",
    "    Rachel Seah Wen Hui (K2082112)\n",
    "    Lingesh Kumar Ravi Chandran ()\n",
    "    Wu Jiawei ()\n",
    "    \n",
    "T Group: T02\n",
    "\n",
    "Submission date: March 22nd 2024"
   ]
  },
  {
   "cell_type": "markdown",
   "id": "52ac14d5-d049-46f0-a508-6b0c8d00d4fc",
   "metadata": {},
   "source": [
    "# Question 1"
   ]
  },
  {
   "cell_type": "code",
   "execution_count": 1,
   "id": "6f8a63ce-2d81-4495-bda3-b34b78b06f80",
   "metadata": {},
   "outputs": [
    {
     "name": "stdout",
     "output_type": "stream",
     "text": [
      "WARNING:tensorflow:From C:\\Users\\65927\\anaconda3\\Lib\\site-packages\\keras\\src\\losses.py:2976: The name tf.losses.sparse_softmax_cross_entropy is deprecated. Please use tf.compat.v1.losses.sparse_softmax_cross_entropy instead.\n",
      "\n"
     ]
    }
   ],
   "source": [
    "from tensorflow import keras\n",
    "from keras import models\n",
    "from keras import layers\n",
    "from keras.optimizers import RMSprop"
   ]
  },
  {
   "cell_type": "markdown",
   "id": "953e4b2d-0538-4783-995c-0805cbc7f697",
   "metadata": {},
   "source": [
    "**Downloading the 50,000 movie reviews from IMDB and saving half of the data as training data while the remaining half are saved as test data.**"
   ]
  },
  {
   "cell_type": "code",
   "execution_count": 2,
   "id": "6e81214e-d94f-4c71-9362-69e6824db3b5",
   "metadata": {},
   "outputs": [],
   "source": [
    "from keras.datasets import imdb\n",
    "\n",
    "(train_data, train_labels), (test_data, test_labels) = imdb.load_data(seed=100, num_words=5000)"
   ]
  },
  {
   "cell_type": "markdown",
   "id": "5ae912d5-9245-432c-9c75-0ddd8dfe3c37",
   "metadata": {},
   "source": [
    "**Pre-processing the different length input data using one-hot encoding**"
   ]
  },
  {
   "cell_type": "code",
   "execution_count": 3,
   "id": "13db06c2-86cb-4054-83a7-e44815ae2a53",
   "metadata": {},
   "outputs": [],
   "source": [
    "import numpy as np\n",
    "\n",
    "def vectorize_seq(sequences, dimension=5000):\n",
    "    results = np.zeros((len(sequences), dimension))\n",
    "    for i, sequence in enumerate(sequences):\n",
    "        results[i, sequence] = 1\n",
    "    return results\n",
    "\n",
    "x_train = vectorize_seq(train_data)\n",
    "x_test =  vectorize_seq(test_data)\n",
    "\n",
    "y_train = np.asarray(train_labels).astype('float32')\n",
    "y_test = np.asarray(test_labels).astype('float32')"
   ]
  },
  {
   "cell_type": "markdown",
   "id": "ca2f73e8-85b1-43b7-b458-98063081ea21",
   "metadata": {},
   "source": [
    "## part (a)\n",
    "**Implementing the designed neural network architecture**"
   ]
  },
  {
   "cell_type": "code",
   "execution_count": 4,
   "id": "b76923f1-bb6c-426a-894b-5665ce6d83f8",
   "metadata": {},
   "outputs": [
    {
     "name": "stdout",
     "output_type": "stream",
     "text": [
      "WARNING:tensorflow:From C:\\Users\\65927\\anaconda3\\Lib\\site-packages\\keras\\src\\backend.py:873: The name tf.get_default_graph is deprecated. Please use tf.compat.v1.get_default_graph instead.\n",
      "\n"
     ]
    }
   ],
   "source": [
    "# Define the model\n",
    "model = models.Sequential()\n",
    "model.add(layers.Dense(32, activation='relu', input_shape=(5000,)))\n",
    "model.add(layers.Dense(16, activation='relu'))\n",
    "model.add(layers.Dense(8, activation='relu'))\n",
    "model.add(layers.Dense(1, activation='sigmoid'))"
   ]
  },
  {
   "cell_type": "code",
   "execution_count": 5,
   "id": "1be25a38-45c6-4861-9902-50bd59deab13",
   "metadata": {},
   "outputs": [
    {
     "name": "stdout",
     "output_type": "stream",
     "text": [
      "WARNING:tensorflow:From C:\\Users\\65927\\anaconda3\\Lib\\site-packages\\keras\\src\\optimizers\\__init__.py:309: The name tf.train.Optimizer is deprecated. Please use tf.compat.v1.train.Optimizer instead.\n",
      "\n"
     ]
    }
   ],
   "source": [
    "# Compile the model\n",
    "model.compile(optimizer='rmsprop',\n",
    "              loss='binary_crossentropy',\n",
    "              metrics=['accuracy'])"
   ]
  },
  {
   "cell_type": "code",
   "execution_count": 6,
   "id": "2b062206-7a94-4931-8dd0-c053e9c6feea",
   "metadata": {},
   "outputs": [
    {
     "name": "stdout",
     "output_type": "stream",
     "text": [
      "Model: \"sequential\"\n",
      "_________________________________________________________________\n",
      " Layer (type)                Output Shape              Param #   \n",
      "=================================================================\n",
      " dense (Dense)               (None, 32)                160032    \n",
      "                                                                 \n",
      " dense_1 (Dense)             (None, 16)                528       \n",
      "                                                                 \n",
      " dense_2 (Dense)             (None, 8)                 136       \n",
      "                                                                 \n",
      " dense_3 (Dense)             (None, 1)                 9         \n",
      "                                                                 \n",
      "=================================================================\n",
      "Total params: 160705 (627.75 KB)\n",
      "Trainable params: 160705 (627.75 KB)\n",
      "Non-trainable params: 0 (0.00 Byte)\n",
      "_________________________________________________________________\n"
     ]
    }
   ],
   "source": [
    "# Display the model summary\n",
    "model.summary()"
   ]
  },
  {
   "cell_type": "code",
   "execution_count": 7,
   "id": "674628aa-9209-4c13-aad3-5ca6666b8a89",
   "metadata": {},
   "outputs": [
    {
     "name": "stdout",
     "output_type": "stream",
     "text": [
      "Epoch 1/10\n",
      "WARNING:tensorflow:From C:\\Users\\65927\\anaconda3\\Lib\\site-packages\\keras\\src\\utils\\tf_utils.py:492: The name tf.ragged.RaggedTensorValue is deprecated. Please use tf.compat.v1.ragged.RaggedTensorValue instead.\n",
      "\n",
      "WARNING:tensorflow:From C:\\Users\\65927\\anaconda3\\Lib\\site-packages\\keras\\src\\engine\\base_layer_utils.py:384: The name tf.executing_eagerly_outside_functions is deprecated. Please use tf.compat.v1.executing_eagerly_outside_functions instead.\n",
      "\n",
      "49/49 [==============================] - 5s 79ms/step - loss: 0.4549 - accuracy: 0.8008 - val_loss: 0.3441 - val_accuracy: 0.8613\n",
      "Epoch 2/10\n",
      "49/49 [==============================] - 1s 13ms/step - loss: 0.2824 - accuracy: 0.8906 - val_loss: 0.2870 - val_accuracy: 0.8860\n",
      "Epoch 3/10\n",
      "49/49 [==============================] - 1s 11ms/step - loss: 0.2345 - accuracy: 0.9077 - val_loss: 0.2914 - val_accuracy: 0.8840\n",
      "Epoch 4/10\n",
      "49/49 [==============================] - 1s 11ms/step - loss: 0.2148 - accuracy: 0.9172 - val_loss: 0.2983 - val_accuracy: 0.8811\n",
      "Epoch 5/10\n",
      "49/49 [==============================] - 1s 10ms/step - loss: 0.1876 - accuracy: 0.9293 - val_loss: 0.3843 - val_accuracy: 0.8566\n",
      "Epoch 6/10\n",
      "49/49 [==============================] - 1s 10ms/step - loss: 0.1730 - accuracy: 0.9344 - val_loss: 0.3187 - val_accuracy: 0.8780\n",
      "Epoch 7/10\n",
      "49/49 [==============================] - 1s 11ms/step - loss: 0.1541 - accuracy: 0.9438 - val_loss: 0.3334 - val_accuracy: 0.8752\n",
      "Epoch 8/10\n",
      "49/49 [==============================] - 1s 11ms/step - loss: 0.1434 - accuracy: 0.9468 - val_loss: 0.3490 - val_accuracy: 0.8718\n",
      "Epoch 9/10\n",
      "49/49 [==============================] - 1s 11ms/step - loss: 0.1215 - accuracy: 0.9578 - val_loss: 0.4066 - val_accuracy: 0.8574\n",
      "Epoch 10/10\n",
      "49/49 [==============================] - 1s 11ms/step - loss: 0.1125 - accuracy: 0.9616 - val_loss: 0.3779 - val_accuracy: 0.8700\n"
     ]
    }
   ],
   "source": [
    "# Train the model\n",
    "history = model.fit(x_train, y_train,\n",
    "                    epochs=10,\n",
    "                    batch_size=512,\n",
    "                    validation_data=(x_test, y_test))"
   ]
  },
  {
   "cell_type": "markdown",
   "id": "73a8152e-b075-4eac-8e6e-6515bf759981",
   "metadata": {},
   "source": [
    "## part (b)\n",
    "**Reporting the model's training losses, testing losses, training accuracy, and testing accuracy**"
   ]
  },
  {
   "cell_type": "code",
   "execution_count": 8,
   "id": "8498a2e1-7136-4359-876b-89b7cee8e5a0",
   "metadata": {},
   "outputs": [
    {
     "name": "stdout",
     "output_type": "stream",
     "text": [
      "782/782 [==============================] - 2s 2ms/step - loss: 0.3779 - accuracy: 0.8700\n",
      "Training Loss: 0.113\n",
      "Testing Loss: 0.378\n",
      "Training Accuracy: 0.962\n",
      "Testing Accuracy: 0.870\n"
     ]
    }
   ],
   "source": [
    "# Evaluate the model on test data\n",
    "test_loss, test_acc = model.evaluate(x_test, y_test)\n",
    "\n",
    "# Report the training and testing metrics\n",
    "print(f'Training Loss: {history.history[\"loss\"][-1]:.3f}')\n",
    "print(f'Testing Loss: {test_loss:.3f}')\n",
    "\n",
    "print(f'Training Accuracy: {history.history[\"accuracy\"][-1]:.3f}')\n",
    "print(f'Testing Accuracy: {test_acc:.3f}')"
   ]
  },
  {
   "cell_type": "markdown",
   "id": "8f5283c3-1fea-4b9d-af8b-ede5f1209224",
   "metadata": {},
   "source": [
    "**Findings:**<br>\n",
    "The model achieves a high training accuracy of 95.4%, indicating effective learning from the training dataset.\n",
    "The testing accuracy of 87.0% is slightly lower than the training accuracy but still reasonably high, suggesting good generalization to unseen data.\n",
    "The difference between training and testing accuracy is not excessively large, indicating that the model is not overfitting or underfitting severely.<br>"
   ]
  },
  {
   "cell_type": "markdown",
   "id": "d72cac03-e0b8-4e24-aede-6e83fa7129c8",
   "metadata": {},
   "source": [
    "## part (c)\n",
    "\n",
    "**Using matplotlib to plot the training and validation loss, which can help identify the optimal number of epochs**"
   ]
  },
  {
   "cell_type": "code",
   "execution_count": 9,
   "id": "6e582a16-09d5-42a0-8c0c-7e00d2437b8a",
   "metadata": {},
   "outputs": [
    {
     "name": "stdout",
     "output_type": "stream",
     "text": [
      "Epoch 1/30\n",
      "49/49 [==============================] - 3s 51ms/step - loss: 0.4849 - accuracy: 0.7778 - val_loss: 0.3487 - val_accuracy: 0.8695\n",
      "Epoch 2/30\n",
      "49/49 [==============================] - 1s 11ms/step - loss: 0.2916 - accuracy: 0.8904 - val_loss: 0.2886 - val_accuracy: 0.8852\n",
      "Epoch 3/30\n",
      "49/49 [==============================] - 1s 11ms/step - loss: 0.2457 - accuracy: 0.9050 - val_loss: 0.2838 - val_accuracy: 0.8851\n",
      "Epoch 4/30\n",
      "49/49 [==============================] - 1s 11ms/step - loss: 0.2141 - accuracy: 0.9189 - val_loss: 0.2897 - val_accuracy: 0.8838\n",
      "Epoch 5/30\n",
      "49/49 [==============================] - 1s 11ms/step - loss: 0.1956 - accuracy: 0.9270 - val_loss: 0.2994 - val_accuracy: 0.8795\n",
      "Epoch 6/30\n",
      "49/49 [==============================] - 1s 11ms/step - loss: 0.1763 - accuracy: 0.9328 - val_loss: 0.3136 - val_accuracy: 0.8755\n",
      "Epoch 7/30\n",
      "49/49 [==============================] - 1s 11ms/step - loss: 0.1630 - accuracy: 0.9374 - val_loss: 0.3268 - val_accuracy: 0.8754\n",
      "Epoch 8/30\n",
      "49/49 [==============================] - 1s 12ms/step - loss: 0.1490 - accuracy: 0.9453 - val_loss: 0.3988 - val_accuracy: 0.8572\n",
      "Epoch 9/30\n",
      "49/49 [==============================] - 1s 11ms/step - loss: 0.1379 - accuracy: 0.9494 - val_loss: 0.3498 - val_accuracy: 0.8728\n",
      "Epoch 10/30\n",
      "49/49 [==============================] - 1s 11ms/step - loss: 0.1179 - accuracy: 0.9579 - val_loss: 0.3836 - val_accuracy: 0.8685\n",
      "Epoch 11/30\n",
      "49/49 [==============================] - 1s 13ms/step - loss: 0.1084 - accuracy: 0.9630 - val_loss: 0.4681 - val_accuracy: 0.8538\n",
      "Epoch 12/30\n",
      "49/49 [==============================] - 1s 12ms/step - loss: 0.0950 - accuracy: 0.9690 - val_loss: 0.4087 - val_accuracy: 0.8682\n",
      "Epoch 13/30\n",
      "49/49 [==============================] - 1s 11ms/step - loss: 0.0819 - accuracy: 0.9735 - val_loss: 0.4210 - val_accuracy: 0.8643\n",
      "Epoch 14/30\n",
      "49/49 [==============================] - 1s 12ms/step - loss: 0.0692 - accuracy: 0.9801 - val_loss: 0.4459 - val_accuracy: 0.8653\n",
      "Epoch 15/30\n",
      "49/49 [==============================] - 1s 11ms/step - loss: 0.0596 - accuracy: 0.9837 - val_loss: 0.4799 - val_accuracy: 0.8642\n",
      "Epoch 16/30\n",
      "49/49 [==============================] - 1s 11ms/step - loss: 0.0526 - accuracy: 0.9860 - val_loss: 0.5460 - val_accuracy: 0.8544\n",
      "Epoch 17/30\n",
      "49/49 [==============================] - 1s 12ms/step - loss: 0.0378 - accuracy: 0.9916 - val_loss: 0.5787 - val_accuracy: 0.8569\n",
      "Epoch 18/30\n",
      "49/49 [==============================] - 1s 12ms/step - loss: 0.0390 - accuracy: 0.9898 - val_loss: 0.5629 - val_accuracy: 0.8470\n",
      "Epoch 19/30\n",
      "49/49 [==============================] - 1s 12ms/step - loss: 0.0282 - accuracy: 0.9938 - val_loss: 0.5710 - val_accuracy: 0.8614\n",
      "Epoch 20/30\n",
      "49/49 [==============================] - 1s 13ms/step - loss: 0.0256 - accuracy: 0.9934 - val_loss: 0.5901 - val_accuracy: 0.8625\n",
      "Epoch 21/30\n",
      "49/49 [==============================] - 1s 13ms/step - loss: 0.0256 - accuracy: 0.9936 - val_loss: 0.6244 - val_accuracy: 0.8616\n",
      "Epoch 22/30\n",
      "49/49 [==============================] - 1s 13ms/step - loss: 0.0223 - accuracy: 0.9945 - val_loss: 0.6436 - val_accuracy: 0.8617\n",
      "Epoch 23/30\n",
      "49/49 [==============================] - 1s 12ms/step - loss: 0.0201 - accuracy: 0.9949 - val_loss: 0.6644 - val_accuracy: 0.8616\n",
      "Epoch 24/30\n",
      "49/49 [==============================] - 1s 13ms/step - loss: 0.0166 - accuracy: 0.9954 - val_loss: 0.6703 - val_accuracy: 0.8614\n",
      "Epoch 25/30\n",
      "49/49 [==============================] - 1s 11ms/step - loss: 0.0181 - accuracy: 0.9945 - val_loss: 0.6722 - val_accuracy: 0.8611\n",
      "Epoch 26/30\n",
      "49/49 [==============================] - 1s 10ms/step - loss: 0.0047 - accuracy: 0.9995 - val_loss: 0.7593 - val_accuracy: 0.8617\n",
      "Epoch 27/30\n",
      "49/49 [==============================] - 1s 12ms/step - loss: 0.0157 - accuracy: 0.9960 - val_loss: 0.7666 - val_accuracy: 0.8611\n",
      "Epoch 28/30\n",
      "49/49 [==============================] - 1s 11ms/step - loss: 0.0164 - accuracy: 0.9952 - val_loss: 0.7633 - val_accuracy: 0.8612\n",
      "Epoch 29/30\n",
      "49/49 [==============================] - 1s 11ms/step - loss: 0.0023 - accuracy: 0.9998 - val_loss: 0.8232 - val_accuracy: 0.8614\n",
      "Epoch 30/30\n",
      "49/49 [==============================] - 1s 11ms/step - loss: 0.0134 - accuracy: 0.9964 - val_loss: 0.8414 - val_accuracy: 0.8615\n"
     ]
    },
    {
     "data": {
      "image/png": "[encoded data removed]",
      "text/plain": [
       "<Figure size 640x480 with 1 Axes>"
      ]
     },
     "metadata": {},
     "output_type": "display_data"
    }
   ],
   "source": [
    "import matplotlib.pyplot as plt\n",
    "\n",
    "# Define the model\n",
    "model = models.Sequential()\n",
    "model.add(layers.Dense(32, activation='relu', input_shape=(5000,)))\n",
    "model.add(layers.Dense(16, activation='relu'))\n",
    "model.add(layers.Dense(8, activation='relu'))\n",
    "model.add(layers.Dense(1, activation='sigmoid'))\n",
    "\n",
    "# Compile the model\n",
    "model.compile(optimizer='rmsprop',\n",
    "              loss='binary_crossentropy',\n",
    "              metrics=['accuracy'])\n",
    "\n",
    "# Train the model with a validation set\n",
    "history = model.fit(x_train, y_train,\n",
    "                    epochs=30,  # adjust this value based on the plot\n",
    "                    batch_size=512,\n",
    "                    validation_data=(x_test, y_test))\n",
    "\n",
    "# Plotting the training and validation loss\n",
    "train_loss = history.history['loss']\n",
    "val_loss = history.history['val_loss']\n",
    "epochs = range(1, len(train_loss) + 1)\n",
    "\n",
    "plt.plot(epochs, train_loss, 'bo', label='Training Loss')\n",
    "plt.plot(epochs, val_loss, 'b', label='Validation Loss')\n",
    "plt.title('Training and Validation Loss')\n",
    "plt.xlabel('Epochs')\n",
    "plt.ylabel('Loss')\n",
    "plt.legend()\n",
    "plt.show()"
   ]
  },
  {
   "cell_type": "markdown",
   "id": "8e84c7e3-a735-45e6-923e-2de0111e64d7",
   "metadata": {},
   "source": [
    "After epoch 3, the validation loss starts to increase, which indicates that the model is beginning to overfit the training data. \n",
    "\n",
    "Therefore, epoch 3 appears to be a reasonable choice for the optimal number of epochs."
   ]
  },
  {
   "cell_type": "markdown",
   "id": "0784c24a-0e0f-44ef-8dad-61794da642b0",
   "metadata": {},
   "source": [
    "**Modifying the model training code to use early stopping based on the minimum validation loss and stop training if the validation loss does not improve**"
   ]
  },
  {
   "cell_type": "code",
   "execution_count": 10,
   "id": "709b9565-ebd4-4a2b-b347-e8246e30f612",
   "metadata": {},
   "outputs": [
    {
     "name": "stdout",
     "output_type": "stream",
     "text": [
      "Epoch 1/10\n",
      "49/49 [==============================] - 2s 35ms/step - loss: 0.0014 - accuracy: 0.9999 - val_loss: 0.8931 - val_accuracy: 0.8612\n",
      "Epoch 2/10\n",
      "49/49 [==============================] - 1s 13ms/step - loss: 0.0173 - accuracy: 0.9956 - val_loss: 0.8610 - val_accuracy: 0.8598\n",
      "Epoch 3/10\n",
      "49/49 [==============================] - 1s 11ms/step - loss: 9.8300e-04 - accuracy: 1.0000 - val_loss: 0.9453 - val_accuracy: 0.8609\n",
      "Epoch 4/10\n",
      "49/49 [==============================] - 1s 11ms/step - loss: 0.0121 - accuracy: 0.9965 - val_loss: 0.8987 - val_accuracy: 0.8590\n",
      "Epoch 5/10\n",
      "49/49 [==============================] - 1s 11ms/step - loss: 7.3237e-04 - accuracy: 1.0000 - val_loss: 0.9777 - val_accuracy: 0.8614\n"
     ]
    }
   ],
   "source": [
    "# Train the model with early stopping based on validation loss\n",
    "from keras.callbacks import EarlyStopping\n",
    "\n",
    "early_stopping = EarlyStopping(monitor='val_loss', patience=3, restore_best_weights=True)\n",
    "\n",
    "history = model.fit(x_train, y_train,\n",
    "                    epochs=10,  #epochs=3 or a higher number if using early stopping\n",
    "                    batch_size=512,\n",
    "                    validation_data=(x_test, y_test),\n",
    "                    callbacks=[early_stopping])\n"
   ]
  },
  {
   "cell_type": "markdown",
   "id": "56f0707c-337d-457f-afa8-7baafe0adbbc",
   "metadata": {},
   "source": [
    "## part (d)\n",
    "\n",
    "One way to improve the model's performance is to introduce dropout regularization.\n",
    "\n",
    "Dropout is a regularization technique where randomly selected neurons are ignored during training, which helps prevent overfitting."
   ]
  },
  {
   "cell_type": "code",
   "execution_count": 11,
   "id": "d169c9dd-0a74-4dd2-ac25-979922b616b6",
   "metadata": {},
   "outputs": [
    {
     "name": "stdout",
     "output_type": "stream",
     "text": [
      "Epoch 1/10\n",
      "49/49 [==============================] - 3s 35ms/step - loss: 0.6727 - accuracy: 0.5691 - val_loss: 0.5879 - val_accuracy: 0.8101\n",
      "Epoch 2/10\n",
      "49/49 [==============================] - 1s 12ms/step - loss: 0.5761 - accuracy: 0.7119 - val_loss: 0.4462 - val_accuracy: 0.8563\n",
      "Epoch 3/10\n",
      "49/49 [==============================] - 1s 13ms/step - loss: 0.4919 - accuracy: 0.7790 - val_loss: 0.3654 - val_accuracy: 0.8773\n",
      "Epoch 4/10\n",
      "49/49 [==============================] - 1s 13ms/step - loss: 0.4349 - accuracy: 0.8284 - val_loss: 0.3189 - val_accuracy: 0.8827\n",
      "Epoch 5/10\n",
      "49/49 [==============================] - 1s 12ms/step - loss: 0.3900 - accuracy: 0.8551 - val_loss: 0.3104 - val_accuracy: 0.8836\n",
      "Epoch 6/10\n",
      "49/49 [==============================] - 1s 12ms/step - loss: 0.3660 - accuracy: 0.8715 - val_loss: 0.3072 - val_accuracy: 0.8828\n",
      "Epoch 7/10\n",
      "49/49 [==============================] - 1s 12ms/step - loss: 0.3327 - accuracy: 0.8845 - val_loss: 0.3032 - val_accuracy: 0.8840\n",
      "Epoch 8/10\n",
      "49/49 [==============================] - 1s 12ms/step - loss: 0.3123 - accuracy: 0.8904 - val_loss: 0.3022 - val_accuracy: 0.8844\n",
      "Epoch 9/10\n",
      "49/49 [==============================] - 1s 11ms/step - loss: 0.2949 - accuracy: 0.9001 - val_loss: 0.3156 - val_accuracy: 0.8834\n",
      "Epoch 10/10\n",
      "49/49 [==============================] - 1s 12ms/step - loss: 0.2767 - accuracy: 0.9071 - val_loss: 0.3161 - val_accuracy: 0.8814\n",
      "782/782 [==============================] - 2s 2ms/step - loss: 0.3161 - accuracy: 0.8814\n",
      "Improved Model Testing Accuracy: 0.881\n"
     ]
    }
   ],
   "source": [
    "from tensorflow.keras.models import Sequential\n",
    "from tensorflow.keras.layers import Dense, Dropout\n",
    "\n",
    "# Define the improved model\n",
    "improved_model = Sequential()\n",
    "improved_model.add(Dense(32, activation='relu', input_shape=(5000,)))\n",
    "improved_model.add(Dropout(0.5))  # Adding dropout layer with a dropout rate of 0.5\n",
    "improved_model.add(Dense(16, activation='relu'))\n",
    "improved_model.add(Dropout(0.5))  # Adding dropout layer with a dropout rate of 0.5\n",
    "improved_model.add(Dense(8, activation='relu'))\n",
    "improved_model.add(Dropout(0.5))  # Adding dropout layer with a dropout rate of 0.5\n",
    "improved_model.add(Dense(1, activation='sigmoid'))\n",
    "\n",
    "# Compile the improved model\n",
    "improved_model.compile(optimizer='rmsprop',\n",
    "                       loss='binary_crossentropy',\n",
    "                       metrics=['accuracy'])\n",
    "\n",
    "# Train the improved model\n",
    "improved_history = improved_model.fit(x_train, y_train,\n",
    "                                      epochs=10,\n",
    "                                      batch_size=512,\n",
    "                                      validation_data=(x_test, y_test))\n",
    "\n",
    "# Evaluate the improved model on the test data\n",
    "improved_test_loss, improved_test_acc = improved_model.evaluate(x_test, y_test)\n",
    "\n",
    "# Report the accuracy of the improved model\n",
    "print(f'Improved Model Testing Accuracy: {improved_test_acc:.3f}')\n"
   ]
  },
  {
   "cell_type": "markdown",
   "id": "74fb941b-1236-4e34-be06-e54e115cece2",
   "metadata": {},
   "source": [
    "## part (e)\n",
    "\n",
    "**Specificity: 40/45 = 66.67%**<br>\n",
    "**Type I Error (False Positive, FP) False Positives=Predicted Positive, Actual Negative = 15**<br>\n",
    "A type I error occurs when the model predicts a positive outcome (Positive, +), but the true status is negative (Negative, -).<br>\n",
    "These are instances where the model incorrectly predicted a positive review, but the actual review was negative.<br>\n",
    "*Implication:* This error might lead to misinforming users that a negative review is positive, potentially affecting their decision-making based on incorrect information.<br>\n",
    "\n",
    "**Misleading Information:** Users rely on platforms like IMDb for accurate and reliable information about movies and TV shows. Misinforming users about the sentiment of a review could lead to misunderstandings and misinterpretations, affecting their decisions on whether to watch a particular content.<br>\n",
    "\n",
    "**User Trust:** Trust is crucial for any online platform. If users find that the information provided by IMDb's AI is not reliable, it could erode their trust in the platform. Users may become skeptical about the accuracy of reviews and other content on IMDb, which can negatively impact the platform's reputation.<br>\n",
    "\n",
    "**User Experience:** A key aspect of user experience is the ability to access trustworthy information. If users encounter inaccuracies in the sentiment analysis of reviews, it can lead to frustration and dissatisfaction. This may discourage users from using IMDb in the future or seeking alternative platforms for accurate information.<br><br>\n",
    "\n",
    "**Sensitivity: 45/55 = 81.81%**<br>\n",
    "**Type II Error (False Negative, FN) False Negatives=Predicted Negative, Actual Positive = 10**<br>\n",
    "A type II error occurs when the model predicts a negative outcome (Negative, -), but the true status is positive (Positive, +).<br>\n",
    "These are instances where the model incorrectly predicted a negative review, but the actual review was positive.<br>\n",
    "*Implication:* This error might result in missing positive reviews, and users might not be aware of positive sentiments expressed in reviews.<br>\n",
    "\n",
    "**Impact on Content Creators:** Filmmakers, actors, and other individuals involved in the entertainment industry often pay attention to audience feedback. Misinforming users about the sentiment of a review could have unintended consequences for content creators, as they may receive inaccurate feedback on their work.<br>\n",
    "\n",
    "**Legal Issues:** If the misinformation leads to substantial harm or damages, it could potentially result in legal issues for IMDb. Content creators or users who rely on the platform might take legal action if they believe they have been adversely affected by the inaccuracies.<br><br>\n",
    "\n",
    "In summary, type I and type II errors have different implications in the context of sentiment analysis. Type I errors may mislead users by falsely indicating positivity, while type II errors may lead to overlooking positive sentiments in reviews. The balance between these errors depends on the specific goals and priorities of the sentiment analysis application. A good sentiment analysis model should aim for high precision to minimize false positives (Type I errors) and high recall to minimize false negatives (Type II errors)."
   ]
  },
  {
   "cell_type": "markdown",
   "id": "b8ca27c0-2442-4d0b-8109-429f841c19ae",
   "metadata": {},
   "source": [
    "## part (f)"
   ]
  },
  {
   "cell_type": "code",
   "execution_count": 12,
   "id": "06c319f4-5095-454f-af44-f596955c78a6",
   "metadata": {},
   "outputs": [
    {
     "name": "stdout",
     "output_type": "stream",
     "text": [
      "Logistic Regression Testing Accuracy: 0.858\n"
     ]
    }
   ],
   "source": [
    "from sklearn.linear_model import LogisticRegression\n",
    "from sklearn.metrics import accuracy_score\n",
    "\n",
    "# Reshape the data to 2D arrays as logistic regression expects\n",
    "x_train_flat = x_train.reshape((x_train.shape[0], -1))\n",
    "x_test_flat = x_test.reshape((x_test.shape[0], -1))\n",
    "\n",
    "# Create and train the logistic regression model\n",
    "logistic_regression_model = LogisticRegression(max_iter=500)\n",
    "logistic_regression_model.fit(x_train_flat, y_train)\n",
    "\n",
    "# Make predictions on the test set\n",
    "logistic_regression_predictions = logistic_regression_model.predict(x_test_flat)\n",
    "\n",
    "# Evaluate the logistic regression model\n",
    "logistic_regression_accuracy = accuracy_score(y_test, logistic_regression_predictions)\n",
    "\n",
    "# Print the testing accuracy of the logistic regression model\n",
    "print(f'Logistic Regression Testing Accuracy: {logistic_regression_accuracy:.3f}')\n"
   ]
  },
  {
   "cell_type": "markdown",
   "id": "e7ecd994-6c5c-4809-9cbd-789f2f84e716",
   "metadata": {},
   "source": [
    "### Logistic Regression: ###\n",
    "\n",
    "Testing Accuracy: 0.858<br><br>\n",
    "**Advantages:**<br>\n",
    "Simplicity: Logistic regression is a simple linear model that is easy to understand and interpret.<br>\n",
    "Computationally Efficient: Logistic regression is computationally less expensive compared to neural networks, making it faster for training and prediction.<br><br>\n",
    "**Disadvantages:**<br>\n",
    "Limited Complexity: Logistic regression may struggle to capture complex relationships in the data, especially when dealing with non-linear patterns.\n",
    "\n",
    "### Neural Network (Improved Model): ###\n",
    "Testing Accuracy: 0.880<br><br>\n",
    "**Advantages:**<br>\n",
    "Non-Linearity: Neural networks, especially with multiple layers, can capture complex non-linear relationships in the data.<br>\n",
    "Feature Learning: Neural networks automatically learn hierarchical representations of features, potentially improving performance on intricate tasks.<br><br>\n",
    "**Disadvantages:**<br>\n",
    "Complexity: Neural networks are more complex and may require more computational resources for training. They can also be harder to interpret.\n",
    "\n",
    "\n",
    "### Comparison: ###\n",
    "The neural network, with an improved testing accuracy of 0.880, outperforms logistic regression (0.858) in terms of predictive accuracy.<br>\n",
    "The neural network's ability to capture non-linear patterns might be crucial in sentiment analysis, where the relationships between words and sentiments can be intricate.<br>\n",
    "The decision to choose between logistic regression and a neural network depends on various factors such as the available computational resources, interpretability, and the specific requirements of the application.\n",
    "\n",
    "### Conclusion: ###\n",
    "If computational efficiency and interpretability are critical, and the slightly lower accuracy is acceptable, logistic regression could be a reasonable choice.<br>\n",
    "If achieving the highest possible accuracy is a priority, and computational resources are sufficient, the neural network might be the preferred option due to its ability to handle complex relationships in the data."
   ]
  },
  {
   "cell_type": "markdown",
   "id": "a13cb872-19c3-4476-9431-052b3d0effa2",
   "metadata": {
    "tags": []
   },
   "source": [
    "# Question 2"
   ]
  },
  {
   "cell_type": "markdown",
   "id": "4985875d-d96e-4c09-99af-cf3157a794fa",
   "metadata": {},
   "source": [
    "## part (a)"
   ]
  },
  {
   "cell_type": "code",
   "execution_count": 13,
   "id": "841f4ec2-2306-4bc9-9d7b-473b0c01c1fd",
   "metadata": {},
   "outputs": [],
   "source": [
    "from sklearn.neighbors import KNeighborsClassifier\n",
    "from sklearn.metrics import accuracy_score\n",
    "from sklearn.model_selection import train_test_split\n",
    "from sklearn.preprocessing import LabelEncoder"
   ]
  },
  {
   "cell_type": "code",
   "execution_count": 14,
   "id": "c39d1858-7e11-43e8-92e2-2507474b03f2",
   "metadata": {},
   "outputs": [
    {
     "name": "stdout",
     "output_type": "stream",
     "text": [
      "Accuracy on the validation dataset: 0.75\n"
     ]
    }
   ],
   "source": [
    "# Input data\n",
    "data = [\n",
    "    [9567, 6488, 0, 2, 'Good'],\n",
    "    [10767, 5194, 1, 1, 'Good'],\n",
    "    [9317, 7066, 1, 2, 'Good'],\n",
    "    [10517, 3550, 1, 3, 'Good'],\n",
    "    [11267, 7847, 1, 3, 'Good'],\n",
    "    [4500, 2356, 0, 0, 'Bad'],\n",
    "    [5786, 3255, 0, 0, 'Bad'],\n",
    "    [10235, 6800, 1, 2, 'Good'],\n",
    "    [9800, 2345, 0, 1, 'Bad'],\n",
    "    [4300, 1456, 1, 1, 'Bad'],\n",
    "    [6788, 2002, 0, 1, 'Good'],\n",
    "    [8765, 2305, 1, 1, 'Bad'],\n",
    "    [11235, 4050, 0, 2, 'Good'],\n",
    "    [13400, 3500, 0, 1, 'Good'],\n",
    "    [4567, 1204, 1, 1, 'Bad'],\n",
    "    [6734, 2038, 1, 1, 'Good'],\n",
    "    [8546, 3150, 1, 2, 'Bad'],\n",
    "    [7893, 3020, 1, 1, 'Bad'],\n",
    "    [10123, 3809, 0, 1, 'Good'],\n",
    "    [8801, 5600, 0, 3, 'Good'],\n",
    "]\n",
    "\n",
    "# Extract features and labels\n",
    "X = [[row[0], row[1], row[2], row[3]] for row in data]\n",
    "y = [row[4] for row in data]\n",
    "\n",
    "# Encode labels\n",
    "label_encoder = LabelEncoder()\n",
    "y = label_encoder.fit_transform(y)\n",
    "\n",
    "# Split the data into training and validation sets\n",
    "X_train, X_val, y_train, y_val = train_test_split(X, y, test_size=4, random_state=42, shuffle=False)\n",
    "\n",
    "# Create and train the KNN classifier\n",
    "knn_classifier = KNeighborsClassifier(n_neighbors=3)\n",
    "knn_classifier.fit(X_train, y_train)\n",
    "\n",
    "# Make predictions on the validation set\n",
    "y_pred = knn_classifier.predict(X_val)\n",
    "\n",
    "# Decode predicted labels\n",
    "y_pred_decoded = label_encoder.inverse_transform(y_pred)\n",
    "\n",
    "# Calculate accuracy\n",
    "accuracy = accuracy_score(y_val, y_pred)\n",
    "print(f\"Accuracy on the validation dataset: {accuracy:.2f}\")\n",
    "\n"
   ]
  },
  {
   "cell_type": "markdown",
   "id": "78f88a42-e16f-4764-81d4-b510ba54d272",
   "metadata": {},
   "source": [
    "## part (b)"
   ]
  },
  {
   "cell_type": "markdown",
   "id": "6102caf3-d6da-4312-ae47-205d8761495e",
   "metadata": {},
   "source": [
    "**1. Feature Scaling** <br>\n",
    "KNN is sensitive to the scale of the input features because it relies on distance measures. When features have different scales, those with larger scales may dominate the distance calculations."
   ]
  },
  {
   "cell_type": "code",
   "execution_count": 15,
   "id": "742b1d38-b85c-4926-b022-47f6c26035b2",
   "metadata": {},
   "outputs": [
    {
     "name": "stdout",
     "output_type": "stream",
     "text": [
      "Accuracy on the validation dataset after feature scaling: 0.5\n"
     ]
    }
   ],
   "source": [
    "from sklearn.preprocessing import MinMaxScaler\n",
    "\n",
    "# Feature scaling using Min-Max scaling\n",
    "scaler = MinMaxScaler()\n",
    "X_train_scaled = scaler.fit_transform(X_train)\n",
    "X_val_scaled = scaler.transform(X_val)\n",
    "\n",
    "# Initializing the KNN classifier with K=3\n",
    "knn_classifier = KNeighborsClassifier(n_neighbors=3)\n",
    "\n",
    "# Training the model on the scaled training dataset\n",
    "knn_classifier.fit(X_train_scaled, y_train)\n",
    "\n",
    "# Making predictions on the scaled validation dataset\n",
    "y_pred = knn_classifier.predict(X_val_scaled)\n",
    "\n",
    "# Calculating accuracy\n",
    "accuracy = accuracy_score(y_val, y_pred)\n",
    "\n",
    "print(f\"Accuracy on the validation dataset after feature scaling: {accuracy}\")"
   ]
  },
  {
   "cell_type": "markdown",
   "id": "d37e1103-1f30-43be-9076-e4649ca6a00a",
   "metadata": {},
   "source": [
    "**2. Feature Selection**<br>\n",
    "Identify and use only the most relevant features for classification. Removing irrelevant or redundant features can improve the model's generalization."
   ]
  },
  {
   "cell_type": "code",
   "execution_count": 16,
   "id": "497b0867-2fc7-4045-b004-206213abb1c1",
   "metadata": {},
   "outputs": [
    {
     "name": "stdout",
     "output_type": "stream",
     "text": [
      "Accuracy with Selected Features: 0.75\n"
     ]
    }
   ],
   "source": [
    "from sklearn.feature_selection import SelectKBest, f_classif\n",
    "\n",
    "# Use SelectKBest with ANOVA F-statistic for feature selection\n",
    "k_best = SelectKBest(score_func=f_classif, k=3)\n",
    "X_train_selected = k_best.fit_transform(X_train, y_train)\n",
    "X_valid_selected = k_best.transform(X_val)\n",
    "\n",
    "# Implement the KNN classifier with selected features and K=3\n",
    "knn_selected = KNeighborsClassifier(n_neighbors=3)\n",
    "knn_selected.fit(X_train_selected, y_train)\n",
    "\n",
    "# Predict on the selected features validation set\n",
    "y_pred_selected = knn_selected.predict(X_valid_selected)\n",
    "\n",
    "# Calculate accuracy with selected features\n",
    "accuracy_selected = accuracy_score(y_val, y_pred_selected)\n",
    "print(\"Accuracy with Selected Features:\", accuracy_selected)\n"
   ]
  },
  {
   "cell_type": "markdown",
   "id": "d309613e-d078-42f2-838e-a3773c76f447",
   "metadata": {},
   "source": [
    "**3. Ensemble Methods (Bagging)**<br>\n",
    "Using ensemble methods like Bagging or Boosting with KNN. This involves training multiple KNN models and combining their predictions, which can lead to better overall performance."
   ]
  },
  {
   "cell_type": "code",
   "execution_count": 17,
   "id": "5d33ff76-c89c-4968-94ec-02fae339260d",
   "metadata": {},
   "outputs": [
    {
     "name": "stdout",
     "output_type": "stream",
     "text": [
      "Accuracy with Bagging: 0.75\n"
     ]
    }
   ],
   "source": [
    "from sklearn.ensemble import BaggingClassifier\n",
    "\n",
    "# Implement Bagging with KNN (K=3)\n",
    "bagging_knn = BaggingClassifier(KNeighborsClassifier(n_neighbors=3), n_estimators=10, random_state=42)\n",
    "bagging_knn.fit(X_train, y_train)\n",
    "\n",
    "# Predict on the validation set using Bagging\n",
    "y_pred_bagging = bagging_knn.predict(X_val)\n",
    "\n",
    "# Calculate accuracy with Bagging\n",
    "accuracy_bagging = accuracy_score(y_val, y_pred_bagging)\n",
    "print(\"Accuracy with Bagging:\", accuracy_bagging)\n"
   ]
  },
  {
   "cell_type": "markdown",
   "id": "2cb6c2f3-2bf0-442e-bbcd-25e24a6e4399",
   "metadata": {},
   "source": [
    "**4. Dimensionality Reduction (PCA)**<br>\n",
    "Apply dimensionality reduction techniques, such as Principal Component Analysis (PCA) or t-Distributed Stochastic Neighbor Embedding (t-SNE), to reduce the number of features while preserving the most important information."
   ]
  },
  {
   "cell_type": "code",
   "execution_count": 18,
   "id": "179c81ab-4b06-4861-85c1-804687fde608",
   "metadata": {},
   "outputs": [
    {
     "name": "stdout",
     "output_type": "stream",
     "text": [
      "Accuracy with PCA: 0.75\n"
     ]
    }
   ],
   "source": [
    "from sklearn.decomposition import PCA\n",
    "\n",
    "# Apply PCA for dimensionality reduction\n",
    "pca = PCA(n_components=3)\n",
    "X_train_pca = pca.fit_transform(X_train)\n",
    "X_valid_pca = pca.transform(X_val)\n",
    "\n",
    "# Implement the KNN classifier with reduced dimensions and K=3\n",
    "knn_pca = KNeighborsClassifier(n_neighbors=3)\n",
    "knn_pca.fit(X_train_pca, y_train)\n",
    "\n",
    "# Predict on the PCA-transformed validation set\n",
    "y_pred_pca = knn_pca.predict(X_valid_pca)\n",
    "\n",
    "# Calculate accuracy with reduced dimensions\n",
    "accuracy_pca = accuracy_score(y_val, y_pred_pca)\n",
    "print(\"Accuracy with PCA:\", accuracy_pca)\n"
   ]
  },
  {
   "cell_type": "markdown",
   "id": "b1661a8f-74f1-426e-ac9f-8f9f6a812a5d",
   "metadata": {},
   "source": [
    "**5. Cross Validation**<br>\n",
    "Use cross-validation to assess the model's generalization performance more effectively. This can help detect overfitting and provide a more accurate estimate of the model's performance."
   ]
  },
  {
   "cell_type": "code",
   "execution_count": 19,
   "id": "40cb928f-7672-4783-97af-dc14f7872375",
   "metadata": {},
   "outputs": [
    {
     "name": "stdout",
     "output_type": "stream",
     "text": [
      "Cross-Validation Scores: [1.   0.75 1.   1.   0.75]\n",
      "Mean Accuracy: 0.9\n"
     ]
    }
   ],
   "source": [
    "from sklearn.model_selection import cross_val_score\n",
    "\n",
    "# Create a KNN classifier with the best hyperparameters (from tuning)\n",
    "best_knn_cv = KNeighborsClassifier(n_neighbors=3, weights='distance', p=2)\n",
    "\n",
    "# Perform 5-fold cross-validation\n",
    "cv_scores = cross_val_score(best_knn_cv, X, y, cv=5)\n",
    "\n",
    "# Print the cross-validation scores\n",
    "print(\"Cross-Validation Scores:\", cv_scores)\n",
    "\n",
    "# Calculate and print the mean accuracy\n",
    "mean_accuracy = cv_scores.mean()\n",
    "print(\"Mean Accuracy:\", mean_accuracy)\n"
   ]
  },
  {
   "cell_type": "markdown",
   "id": "da4f61ab-1703-4aec-b21a-55c855b3005f",
   "metadata": {},
   "source": [
    "**6. Fine-Tuning Hyperparameters**<br>\n",
    "Experiment with different values of hyperparameters other than k, such as the distance metric. Sometimes, a different distance metric or a different weighting scheme might lead to better results\n"
   ]
  },
  {
   "cell_type": "code",
   "execution_count": 20,
   "id": "b42af4a8-b39c-478c-bd58-08d16de02f11",
   "metadata": {
    "tags": []
   },
   "outputs": [
    {
     "name": "stdout",
     "output_type": "stream",
     "text": [
      "Accuracy with Manhattan distance: 0.75\n",
      "Accuracy with Euclidean distance: 0.5\n"
     ]
    }
   ],
   "source": [
    "# Try different values of the p parameter for distance metric\n",
    "knn_manhattan = KNeighborsClassifier(n_neighbors=3, p=1)\n",
    "knn_manhattan.fit(X_train_scaled, y_train)\n",
    "y_pred_manhattan = knn_manhattan.predict(X_val_scaled)\n",
    "accuracy_manhattan = accuracy_score(y_val, y_pred_manhattan)\n",
    "print(f\"Accuracy with Manhattan distance: {accuracy_manhattan}\")\n",
    "\n",
    "knn_euclidean = KNeighborsClassifier(n_neighbors=3, p=2)\n",
    "knn_euclidean.fit(X_train_scaled, y_train)\n",
    "y_pred_euclidean = knn_euclidean.predict(X_val_scaled)\n",
    "accuracy_euclidean = accuracy_score(y_val, y_pred_euclidean)\n",
    "print(f\"Accuracy with Euclidean distance: {accuracy_euclidean}\")\n"
   ]
  },
  {
   "cell_type": "markdown",
   "id": "3d822610-28e2-45e7-89f5-b6e4bce2ca4c",
   "metadata": {},
   "source": [
    "**7. Handling Imbalanced Classes**<br>\n",
    "Using the class_weight parameter to handle imbalanced classes."
   ]
  },
  {
   "cell_type": "code",
   "execution_count": 21,
   "id": "35c22386-1797-45ce-8abc-a2d28be50645",
   "metadata": {
    "tags": []
   },
   "outputs": [
    {
     "name": "stdout",
     "output_type": "stream",
     "text": [
      "Accuracy with class weights: 0.75\n"
     ]
    }
   ],
   "source": [
    "from sklearn.utils import class_weight\n",
    "\n",
    "# Handling class imbalance using class weights\n",
    "class_weights = class_weight.compute_class_weight('balanced', classes=np.unique(y_train), y=y_train)\n",
    "knn_class_weights = KNeighborsClassifier(n_neighbors=3, weights='distance', metric='manhattan')\n",
    "knn_class_weights.fit(X_train_scaled, y_train)\n",
    "y_pred_class_weights = knn_class_weights.predict(X_val_scaled)\n",
    "accuracy_class_weights = accuracy_score(y_val, y_pred_class_weights)\n",
    "print(f\"Accuracy with class weights: {accuracy_class_weights}\")"
   ]
  },
  {
   "cell_type": "markdown",
   "id": "71442723-822e-4930-b01e-d9e2eebfc9f4",
   "metadata": {},
   "source": [
    "**8. Using Different Data Splits**<br>\n",
    "Trying a different random seed for the data split"
   ]
  },
  {
   "cell_type": "code",
   "execution_count": 22,
   "id": "68c1e30b-3bce-42d6-bd3c-d5374b6c4c5e",
   "metadata": {
    "tags": []
   },
   "outputs": [
    {
     "name": "stdout",
     "output_type": "stream",
     "text": [
      "Accuracy on the validation dataset: 0.75\n"
     ]
    }
   ],
   "source": [
    "# Try a different random seed for data split\n",
    "X_train, X_val, y_train, y_val = train_test_split(X, y, test_size=4, random_state=456, shuffle=False)\n",
    "\n",
    "# Create and train the KNN classifier\n",
    "knn_classifier = KNeighborsClassifier(n_neighbors=3)\n",
    "knn_classifier.fit(X_train, y_train)\n",
    "\n",
    "# Make predictions on the validation set\n",
    "y_pred = knn_classifier.predict(X_val)\n",
    "\n",
    "# Decode predicted labels\n",
    "y_pred_decoded = label_encoder.inverse_transform(y_pred)\n",
    "\n",
    "# Calculate accuracy\n",
    "accuracy = accuracy_score(y_val, y_pred)\n",
    "print(f\"Accuracy on the validation dataset: {accuracy:.2f}\")"
   ]
  },
  {
   "cell_type": "markdown",
   "id": "906f87d1-ade1-4d30-988d-ce3e130976ba",
   "metadata": {},
   "source": [
    "## part (c)\n",
    "\n",
    "### KNN:\n",
    "<u>**Pros:**</u><br>\n",
    "- Simple and easy to understand.<br>\n",
    "- No training phase; the model is instance-based.<br>\n",
    "- Can work well with smaller datasets.<br>\n",
    "- Intuitive approach for classification tasks with clear clusters.<br>\n",
    "\n",
    "<u>**Cons:**</u><br>\n",
    "- Computationally expensive during prediction, especially with large datasets.<br>\n",
    "- Sensitive to irrelevant or redundant features.\n",
    "- Might not perform well in high-dimensional spaces.<br><br>\n",
    "    \n",
    "\n",
    "### Neural Network:\n",
    "<u>**Pros:**</u><br>\n",
    "- Can capture complex relationships in data.<br>\n",
    "- Suitable for high-dimensional spaces and complex patterns.<br>\n",
    "- Capable of learning hierarchical features.<br>\n",
    "- Can automatically learn feature representations.<br>\n",
    "\n",
    "<u>**Cons:**</u><br>\n",
    "- Requires a larger amount of data for training to avoid overfitting.<br>\n",
    "- Training can be computationally expensive.<br>\n",
    "- Model interpretation can be challenging.<br><br>\n",
    "    \n",
    "### Considerations\n",
    "<u>**Dataset Size**</u><br>\n",
    "If we have a relatively small dataset, KNN might perform reasonably well. Neural networks often require more data to generalize effectively.<br>\n",
    "\n",
    "<u>**Complexity of Relationships**</u><br>\n",
    "If the relationship between features and labels is complex and nonlinear, a neural network might be more suitable, as it can learn intricate patterns.<br>\n",
    "\n",
    "<u>**Computational Resources**</u><br>\n",
    "KNN is computationally expensive during prediction, especially with large datasets. If computational resources are limited, a neural network might be more scalable.<br>\n",
    "\n",
    "<u>**Interpretability**</u><br>\n",
    "If interpretability is crucial and a clear understanding of how predictions are made is required, KNN might be more transparent. Neural networks are often considered as \"black-box\" models.<br>\n",
    "\n",
    "<u>**Feature Importance**</u><br>\n",
    "If we want to understand the importance of individual features, KNN provides a straightforward way to observe the influence of each feature. Neural networks might not provide such transparency.\n",
    "In the context of the problem, considering the relatively small dataset, KNN has shown decent performance. However, if the relationships in the data are more complex and we have enough data, a neural network might be worth exploring. Additionally, if interpretability is essential, KNN could be a more straightforward choice. "
   ]
  }
 ],
 "metadata": {
  "kernelspec": {
   "display_name": "Python 3 (ipykernel)",
   "language": "python",
   "name": "python3"
  },
  "language_info": {
   "codemirror_mode": {
    "name": "ipython",
    "version": 3
   },
   "file_extension": ".py",
   "mimetype": "text/x-python",
   "name": "python",
   "nbconvert_exporter": "python",
   "pygments_lexer": "ipython3",
   "version": "3.11.5"
  }
 },
 "nbformat": 4,
 "nbformat_minor": 5
}
